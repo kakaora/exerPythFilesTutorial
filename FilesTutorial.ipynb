{
 "cells": [
  {
   "cell_type": "code",
   "execution_count": 2,
   "source": [
    "f = open('test.txt','r')\n",
    "print (f.name)\n",
    "f.close()"
   ],
   "outputs": [
    {
     "output_type": "stream",
     "name": "stdout",
     "text": [
      "test.txt\n"
     ]
    }
   ],
   "metadata": {}
  },
  {
   "cell_type": "code",
   "execution_count": 8,
   "source": [
    "with open ('test.txt','r') as f:\n",
    "    f_contents = f.read()\n",
    "print(f_contents)"
   ],
   "outputs": [
    {
     "output_type": "stream",
     "name": "stdout",
     "text": [
      "\n"
     ]
    }
   ],
   "metadata": {}
  },
  {
   "cell_type": "code",
   "execution_count": 10,
   "source": [
    "with open ('README.md','r') as f:\n",
    "    f_contents = f.readline()\n",
    "print(f_contents)"
   ],
   "outputs": [
    {
     "output_type": "stream",
     "name": "stdout",
     "text": [
      "# Python OS Module Tutorial\n",
      "\n"
     ]
    }
   ],
   "metadata": {}
  },
  {
   "cell_type": "code",
   "execution_count": 12,
   "source": [
    "with open ('README.md','r') as f:\n",
    "    for line in f:\n",
    "        print(line, end = '' )"
   ],
   "outputs": [
    {
     "output_type": "stream",
     "name": "stdout",
     "text": [
      "# Python OS Module Tutorial\n",
      "\n",
      "## Summary of steps to complete\n",
      "\n",
      "- [ ] Fork this repository so you have your own copy to work on.\n",
      "- [ ] Clone the repository on your local machine. \n",
      "- [ ] Create a Jupyter Notebook in your repository.\n",
      "- [ ] Watch the tutorial and execute commands.\n",
      "- [ ] Push your new files to your GitHub repository.\n",
      "- [ ] Submit a link to this GitHub repository in Canvas.\n",
      "\n",
      "## Fork & Clone this repository\n",
      "\n",
      "* We did this in a previous assignment. Instructions are here: https://github.com/cmcntsh/exerGitPractice\n",
      "* This can also be done directly in VSCode\n",
      "  * Create a new folder on your machine where you want to put this repository if you don't already have one you want to use.\n",
      "  * Copy the Clone or Download path for this repository from GitHub.\n",
      "  * In VSCode from the command pallette (Ctrl-Shift-P) run Git: Clone\n",
      "  * Paste the path into the path field which pops up\n",
      "  * Select your new folder you created on your machine\n",
      "  * A new folder for the repository with the repository files should be in the folder you selected showing in the Explorer window in VSCode on the left side.\n",
      "\n",
      "## Create a Jupyter Notebook .ipynb file\n",
      "\n",
      "* In Jupyter Notebook or VSCode navigate to your repository folder.\n",
      "  * Create a new Jupyter Notebook called OSTutorial.ipynb\n",
      "\n",
      "## Watch Tutorial\n",
      "\n",
      "* Follow along with Python tutorial: OS Module (20 min): https://www.youtube.com/watch?v=tJxcKyFMTGo\n",
      "* Execute code examples in separate cells.\n",
      "  * import os\n",
      "  * print(dir(os))\n",
      "  * print(os.getcwd())\n",
      "  * os.chdir()\n",
      "  * os.listdir()\n",
      "  * os.mkdir() - make a new directory folder in the repository\n",
      "  * os.makedirs() - make a new directory with a subdirectory in the repository\n",
      "  * os.rmdir() - remove the new directory\n",
      "  * os.removedirs() - remove the new directory with subdirectory\n",
      "  * os.rename()\n",
      "  * print(os.stat())\n",
      "  * from datetime import datetime\n",
      "  * print(datetime.fromtimestamp())\n",
      "  * os.walk()\n",
      "  * print(os.environ.get('HOME'))\n",
      "  * os.path.join()\n",
      "  * os.path.basename()\n",
      "  * os.path.dirname()\n",
      "  * os.path.split()\n",
      "  * os.path.exists()\n",
      "  * os.path.isdir()\n",
      "  * os.path.isfile()\n",
      "  * os.path.splitext()\n",
      "  * add a comment in a cell with a url for official Python documentation (not shown in the video - Google it)\n",
      "  * add a comment in a cell with a url for a tutorial on the OS module in the official documentation (not shown in the video - look through the documentation to find it)\n",
      "  \n",
      "* When you're done make sure you save your file.\n",
      "\n",
      "## Push your updated file to your GitHub repository\n",
      "\n",
      "* This can be done in VSCode.\n",
      "  * In VSCode click on the Source Control button.\n",
      "  * You should see the files that had changes. (Mine has the original file which shows an M next to it and a new file which says checkpoint in the name. You really only need to push the original file, but if you push both it shouldn't hurt anything.)\n",
      "  * Hover over the changed file. Click the + sign to stage the change.\n",
      "  * Enter a commit message in the message field and click the checkmark to commit the change.\n",
      "  * Click on the 3 dots for more actions and select Sync. This will push the updated file to your GitHub repository.\n",
      "  * Submit the link to your GitHub repository on Canvas.\n"
     ]
    }
   ],
   "metadata": {}
  },
  {
   "cell_type": "code",
   "execution_count": 19,
   "source": [
    "with open ('README.md','r') as f:\n",
    "    size_to_read = 10\n",
    "    f_contents = f.read(size_to_read)\n",
    "    while len (f_contents) > 0:\n",
    "        print(f_contents,end='*')\n",
    "        f_contents = f.read(size_to_read)"
   ],
   "outputs": [
    {
     "output_type": "stream",
     "name": "stdout",
     "text": [
      "# Python O*S Module T*utorial\n",
      "\n",
      "#*# Summary *of steps t*o complete*\n",
      "\n",
      "- [ ] Fo*rk this re*pository s*o you have* your own *copy to wo*rk on.\n",
      "- [* ] Clone t*he reposit*ory on you*r local ma*chine. \n",
      "- *[ ] Create* a Jupyter* Notebook *in your re*pository.\n",
      "*- [ ] Watc*h the tuto*rial and e*xecute com*mands.\n",
      "- [* ] Push yo*ur new fil*es to your* GitHub re*pository.\n",
      "*- [ ] Subm*it a link *to this Gi*tHub repos*itory in C*anvas.\n",
      "\n",
      "##* Fork & Cl*one this r*epository\n",
      "*\n",
      "* We did *this in a *previous a*ssignment.* Instructi*ons are he*re: https:*//github.c*om/cmcntsh*/exerGitPr*actice\n",
      "* T*his can al*so be done* directly *in VSCode\n",
      "*  * Create* a new fol*der on you*r machine *where you *want to pu*t this rep*ository if* you don't* already h*ave one yo*u want to *use.\n",
      "  * C*opy the Cl*one or Dow*nload path* for this *repository* from GitH*ub.\n",
      "  * In* VSCode fr*om the com*mand palle*tte (Ctrl-*Shift-P) r*un Git: Cl*one\n",
      "  * Pa*ste the pa*th into th*e path fie*ld which p*ops up\n",
      "  ** Select yo*ur new fol*der you cr*eated on y*our machin*e\n",
      "  * A ne*w folder f*or the rep*ository wi*th the rep*ository fi*les should* be in the* folder yo*u selected* showing i*n the Expl*orer windo*w in VSCod*e on the l*eft side.\n",
      "*\n",
      "## Create* a Jupyter* Notebook *.ipynb fil*e\n",
      "\n",
      "* In Ju*pyter Note*book or VS*Code navig*ate to you*r reposito*ry folder.*\n",
      "  * Creat*e a new Ju*pyter Note*book calle*d OSTutori*al.ipynb\n",
      "\n",
      "*## Watch T*utorial\n",
      "\n",
      "** Follow al*ong with P*ython tuto*rial: OS M*odule (20 *min): http*s://www.yo*utube.com/*watch?v=tJ*xcKyFMTGo\n",
      "** Execute *code examp*les in sep*arate cell*s.\n",
      "  * imp*ort os\n",
      "  ** print(dir*(os))\n",
      "  * *print(os.g*etcwd())\n",
      " * * os.chdi*r()\n",
      "  * os*.listdir()*\n",
      "  * os.mk*dir() - ma*ke a new d*irectory f*older in t*he reposit*ory\n",
      "  * os*.makedirs(*) - make a* new direc*tory with *a subdirec*tory in th*e reposito*ry\n",
      "  * os.*rmdir() - *remove the* new direc*tory\n",
      "  * o*s.removedi*rs() - rem*ove the ne*w director*y with sub*directory\n",
      "*  * os.ren*ame()\n",
      "  * *print(os.s*tat())\n",
      "  ** from date*time impor*t datetime*\n",
      "  * print*(datetime.*fromtimest*amp())\n",
      "  ** os.walk()*\n",
      "  * print*(os.enviro*n.get('HOM*E'))\n",
      "  * o*s.path.joi*n()\n",
      "  * os*.path.base*name()\n",
      "  ** os.path.d*irname()\n",
      " * * os.path*.split()\n",
      " * * os.path*.exists()\n",
      "*  * os.pat*h.isdir()\n",
      "*  * os.pat*h.isfile()*\n",
      "  * os.pa*th.splitex*t()\n",
      "  * ad*d a commen*t in a cel*l with a u*rl for off*icial Pyth*on documen*tation (no*t shown in* the video* - Google *it)\n",
      "  * ad*d a commen*t in a cel*l with a u*rl for a t*utorial on* the OS mo*dule in th*e official* documenta*tion (not *shown in t*he video -* look thro*ugh the do*cumentatio*n to find *it)\n",
      "  \n",
      "* W*hen you're* done make* sure you *save your *file.\n",
      "\n",
      "## *Push your *updated fi*le to your* GitHub re*pository\n",
      "\n",
      "** This can* be done i*n VSCode.\n",
      "*  * In VSC*ode click *on the Sou*rce Contro*l button.\n",
      "*  * You sh*ould see t*he files t*hat had ch*anges. (Mi*ne has the* original *file which* shows an *M next to *it and a n*ew file wh*ich says c*heckpoint *in the nam*e. You rea*lly only n*eed to pus*h the orig*inal file,* but if yo*u push bot*h it shoul*dn't hurt *anything.)*\n",
      "  * Hover* over the *changed fi*le. Click *the + sign* to stage *the change*.\n",
      "  * Ente*r a commit* message i*n the mess*age field *and click *the checkm*ark to com*mit the ch*ange.\n",
      "  * *Click on t*he 3 dots *for more a*ctions and* select Sy*nc. This w*ill push t*he updated* file to y*our GitHub* repositor*y.\n",
      "  * Sub*mit the li*nk to your* GitHub re*pository o*n Canvas.\n",
      "*"
     ]
    }
   ],
   "metadata": {}
  },
  {
   "cell_type": "code",
   "execution_count": 21,
   "source": [
    "with open ('README.md', 'r') as f:\n",
    "    size_to_read = 10\n",
    "    f_contents = f.read(size_to_read)\n",
    "    print(f_contents,end='')\n",
    "    f.seek(0)\n",
    "    f_contents = f.read(size_to_read)\n",
    "    print(f_contents)"
   ],
   "outputs": [
    {
     "output_type": "stream",
     "name": "stdout",
     "text": [
      "# Python O# Python O\n"
     ]
    }
   ],
   "metadata": {}
  },
  {
   "cell_type": "code",
   "execution_count": 27,
   "source": [
    "with open ('test2.txt', 'w') as f:\n",
    "    f.write('Test')\n",
    "    f.seek(0)\n",
    "    f.write('R')"
   ],
   "outputs": [],
   "metadata": {}
  },
  {
   "cell_type": "code",
   "execution_count": 32,
   "source": [
    "with open('test.txt','r') as rf:\n",
    "    with open('test_copy.txt','w') as wf:\n",
    "        for line in rf:\n",
    "            wf.write(line)"
   ],
   "outputs": [],
   "metadata": {}
  },
  {
   "cell_type": "code",
   "execution_count": 35,
   "source": [
    "with open('AMM.webp','rb') as rf:\n",
    "    with open('AMMM_copy.webp','wb') as wf:\n",
    "        chunk_size = 4096\n",
    "        rf_chunk = rf.read(chunk_size)\n",
    "        while len(rf_chunk) > 0:\n",
    "            wf.write(rf_chunk)\n",
    "            rf_chunk = rf.read(chunk_size)"
   ],
   "outputs": [],
   "metadata": {}
  }
 ],
 "metadata": {
  "orig_nbformat": 4,
  "language_info": {
   "name": "python",
   "version": "3.8.10",
   "mimetype": "text/x-python",
   "codemirror_mode": {
    "name": "ipython",
    "version": 3
   },
   "pygments_lexer": "ipython3",
   "nbconvert_exporter": "python",
   "file_extension": ".py"
  },
  "kernelspec": {
   "name": "python3",
   "display_name": "Python 3.8.10 64-bit ('Basics Package': conda)"
  },
  "interpreter": {
   "hash": "068578462703f97f56ebfd4586d755cffa1b85405eb52d4e660945a25dc02b85"
  }
 },
 "nbformat": 4,
 "nbformat_minor": 2
}